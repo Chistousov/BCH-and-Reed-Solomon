{
 "cells": [
  {
   "cell_type": "markdown",
   "metadata": {},
   "source": [
    "$$\\text{Пример расширенного алгоритма Евклида}$$\n",
    "$$\\text{Пусть }a > b\\text{. Нужно найти }\\gcd(a,b) = d\\text{ и }ax+by=d;$$\n",
    "$$\\text{Начальные условия }a_0=a,a_1=b,x_0=1,y_0=0,x_1=0,y_1=1;$$\n",
    "$$\\text{Формулы } a_i = a_{i + 1}q_{i + 1} + a_{i + 2}; a_i = ax_i+by_i; x_{i + 2}= x_i - x_{i + 1} q_{i + 1}; y_{i + 2} = y_i - y_{i+1}q_{i+1}; $$\n",
    "$$\\text{Пример. Пусть }a = 612, b = 342; $$\n",
    "$$\\text{При }j=0 $$\n",
    "$$a_0 = a_1 q_1 + a_2; 612 = 342 \\cdot 1 + 270; $$\n",
    "$$x_2 = x_0 - x_1 q_1 = 1 - 0 \\cdot 1 = 1; y_2 = y_0 - y_1 q_1 = 0 - 1 \\cdot 1 = -1;$$\n",
    "$$a_0 = ax_0 + by_0; 612 = 612 \\cdot 1 + 342 \\cdot 0; $$\n",
    "$$\\text{При }j=1 $$\n",
    "$$a_1 = a_2 q_2 + a_3; 342 = 270 \\cdot 1 + 72; $$\n",
    "$$x_3 = x_1 - x_2 q_2 = 0 - 1 \\cdot 1 = -1; y_3 = y_1 - y_2 q_2 = 1 - (-1) \\cdot 1 = 2;$$\n",
    "$$a_1 = ax_1 + by_1; 342 = 612 \\cdot 0 + 342 \\cdot 1; $$\n",
    "$$\\text{При }j=2 $$\n",
    "$$a_2 = a_3 q_3 + a_4; 270 = 72 \\cdot 3 + 54; $$\n",
    "$$x_4 = x_2 - x_3 q_3 = 1 - (-1) \\cdot 3 = 4; y_4 = y_2 - y_3 q_3 = -1 - 2 \\cdot 3 = -7;$$\n",
    "$$a_2 = ax_2 + by_2 = 612 \\cdot 1 + 342 \\cdot (-1); $$\n",
    "$$\\text{При }j=3 $$\n",
    "$$a_3 = a_4 q_4 + a_5; 72 = 54 \\cdot 1 + 18; $$\n",
    "$$x_5 = x_3 - x_4 q_4 = (-1) - 4 \\cdot 1 = -5; y_5 = y_3 - y_4 q_4 = 2 - (-7) \\cdot 1 = 9;$$\n",
    "$$a_3 = ax_3 + by_3 = 612 \\cdot (-1) + 342 \\cdot 2; $$\n",
    "$$\\text{При }j=4 $$\n",
    "$$a_4 = a_5 q_5 + a_6; 54 = 18 \\cdot 3 + 0; $$\n",
    "$$x_6,y_6\\text{ - не нужны} $$\n",
    "$$a_4 = 612 \\cdot 4 + 342 \\cdot (-7); $$\n",
    "$$ \\implies \\gcd(612,342) = 18; $$\n",
    "$$ 18 = a x_5 + b y_5 = 612 \\cdot (-5) + 342 \\cdot 9; $$"
   ]
  }
 ],
 "metadata": {
  "kernelspec": {
   "display_name": "Python 3.9.5 64-bit",
   "language": "python",
   "name": "python3"
  },
  "language_info": {
   "name": "python",
   "version": "3.9.5"
  },
  "orig_nbformat": 4,
  "vscode": {
   "interpreter": {
    "hash": "955f46b861c6fafefa42fc4aa5472d9a02b4b458da7defb01b7f53921ea8e324"
   }
  }
 },
 "nbformat": 4,
 "nbformat_minor": 2
}
