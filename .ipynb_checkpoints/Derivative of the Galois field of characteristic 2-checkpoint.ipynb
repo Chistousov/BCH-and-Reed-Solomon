{
 "cells": [
  {
   "cell_type": "markdown",
   "id": "5a45d3d5",
   "metadata": {},
   "source": [
    "$$\\text{Производная в полях характеристики 2}$$\n",
    "$$ L  = L _ 0 + L _ 1 x + L _ 2 x ^ 2 + L _ 3 x ^ 3 + ... + L _ n x ^ n $$\n",
    "$$\\text{Выражение производной общепринятое:} $$\n",
    "$$ L ^ {\\prime} =  L _ 1 + 2 L _ 2 x + 3 L _ 3 x ^ 2 + ... + n L _ n x ^ {n - 1} $$"
   ]
  }
 ],
 "metadata": {
  "kernelspec": {
   "display_name": "Python 3 (ipykernel)",
   "language": "python",
   "name": "python3"
  },
  "language_info": {
   "codemirror_mode": {
    "name": "ipython",
    "version": 3
   },
   "file_extension": ".py",
   "mimetype": "text/x-python",
   "name": "python",
   "nbconvert_exporter": "python",
   "pygments_lexer": "ipython3",
   "version": "3.9.5"
  }
 },
 "nbformat": 4,
 "nbformat_minor": 5
}
